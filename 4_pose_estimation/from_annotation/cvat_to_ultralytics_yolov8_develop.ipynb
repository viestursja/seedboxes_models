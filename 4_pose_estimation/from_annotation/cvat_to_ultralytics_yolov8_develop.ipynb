{
 "cells": [
  {
   "cell_type": "code",
   "execution_count": 2,
   "metadata": {},
   "outputs": [],
   "source": [
    "import os.path\n",
    "from xml.dom import minidom\n",
    "\n",
    "out_dir = './out'\n",
    "if not os.path.exists(out_dir):\n",
    "    os.makedirs(out_dir)"
   ]
  },
  {
   "cell_type": "code",
   "execution_count": 4,
   "metadata": {},
   "outputs": [
    {
     "data": {
      "text/plain": [
       "[<DOM Element: image at 0x2bf767a34a0>]"
      ]
     },
     "execution_count": 4,
     "metadata": {},
     "output_type": "execute_result"
    }
   ],
   "source": [
    "file = minidom.parse('annotations.xml')\n",
    "file\n",
    "images = file.getElementsByTagName('image')\n",
    "images\n"
   ]
  },
  {
   "cell_type": "code",
   "execution_count": 11,
   "metadata": {},
   "outputs": [
    {
     "name": "stdout",
     "output_type": "stream",
     "text": [
      "name captured_image_0.jpg\n"
     ]
    },
    {
     "data": {
      "text/plain": [
       "<DOM Element: points at 0x2bf767a35c0>"
      ]
     },
     "execution_count": 11,
     "metadata": {},
     "output_type": "execute_result"
    }
   ],
   "source": [
    "width = int(images[0].getAttribute('width'))\n",
    "height = int(images[0].getAttribute('height'))\n",
    "name = images[0].getAttribute('name')\n",
    "print(f'name {name}')\n",
    "elem = images[0].getElementsByTagName('points')[0]\n",
    "elem\n",
    "\n",
    "# bbox = images[0].getElementsByTagName('box')[0]\n",
    "# bbox"
   ]
  },
  {
   "cell_type": "code",
   "execution_count": null,
   "metadata": {},
   "outputs": [],
   "source": []
  }
 ],
 "metadata": {
  "kernelspec": {
   "display_name": "venv",
   "language": "python",
   "name": "python3"
  },
  "language_info": {
   "codemirror_mode": {
    "name": "ipython",
    "version": 3
   },
   "file_extension": ".py",
   "mimetype": "text/x-python",
   "name": "python",
   "nbconvert_exporter": "python",
   "pygments_lexer": "ipython3",
   "version": "3.12.4"
  }
 },
 "nbformat": 4,
 "nbformat_minor": 2
}
